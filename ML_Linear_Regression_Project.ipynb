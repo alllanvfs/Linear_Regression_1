{
 "cells": [
  {
   "cell_type": "code",
   "execution_count": 34,
   "id": "448899ed",
   "metadata": {},
   "outputs": [],
   "source": [
    "import numpy as np\n",
    "import pandas as pd\n",
    "from sklearn.model_selection import train_test_split\n",
    "from sklearn.preprocessing import StandardScaler\n",
    "from sklearn.linear_model import LinearRegression\n",
    "from sklearn.metrics import mean_squared_error, r2_score"
   ]
  },
  {
   "cell_type": "code",
   "execution_count": 37,
   "id": "648cb60f",
   "metadata": {},
   "outputs": [],
   "source": [
    "df = pd.read_csv(\"AMES_FINAL_DF.csv\")"
   ]
  },
  {
   "cell_type": "code",
   "execution_count": 38,
   "id": "91ab5e94",
   "metadata": {},
   "outputs": [
    {
     "name": "stdout",
     "output_type": "stream",
     "text": [
      "<class 'pandas.core.frame.DataFrame'>\n",
      "RangeIndex: 2925 entries, 0 to 2924\n",
      "Columns: 274 entries, Lot Frontage to Sale Condition_Partial\n",
      "dtypes: float64(11), int64(263)\n",
      "memory usage: 6.1 MB\n"
     ]
    }
   ],
   "source": [
    "df.info()"
   ]
  },
  {
   "cell_type": "code",
   "execution_count": 39,
   "id": "edefb4b3",
   "metadata": {},
   "outputs": [],
   "source": [
    "X = df.drop('SalePrice', axis=1)"
   ]
  },
  {
   "cell_type": "code",
   "execution_count": 40,
   "id": "0a52e809",
   "metadata": {},
   "outputs": [],
   "source": [
    "y = df['SalePrice']"
   ]
  },
  {
   "cell_type": "markdown",
   "id": "9031d788",
   "metadata": {},
   "source": [
    "//////////////////////////////////////////////////////////////////////////"
   ]
  },
  {
   "cell_type": "code",
   "execution_count": 43,
   "id": "80cb6106",
   "metadata": {},
   "outputs": [],
   "source": [
    "X_train, X_test, y_train, y_test = train_test_split( X, y, test_size=0.2, random_state=42)"
   ]
  },
  {
   "cell_type": "markdown",
   "id": "e2f97ca5",
   "metadata": {},
   "source": [
    "/////////////////////////////////////////////////////////////////////////"
   ]
  },
  {
   "cell_type": "code",
   "execution_count": 44,
   "id": "8d80f7a6",
   "metadata": {},
   "outputs": [],
   "source": [
    "scaler = StandardScaler()"
   ]
  },
  {
   "cell_type": "code",
   "execution_count": 45,
   "id": "7e54a572",
   "metadata": {},
   "outputs": [],
   "source": [
    "scaled_X_train = scaler.fit_transform(X_train)"
   ]
  },
  {
   "cell_type": "code",
   "execution_count": 46,
   "id": "96414dfa",
   "metadata": {},
   "outputs": [],
   "source": [
    "scaled_X_test = scaler.transform(X_test)"
   ]
  },
  {
   "cell_type": "markdown",
   "id": "eadbbe79",
   "metadata": {},
   "source": [
    "/////////////////////////////////////////////////////"
   ]
  },
  {
   "cell_type": "code",
   "execution_count": 49,
   "id": "54264186",
   "metadata": {},
   "outputs": [
    {
     "data": {
      "text/plain": [
       "LinearRegression()"
      ]
     },
     "execution_count": 49,
     "metadata": {},
     "output_type": "execute_result"
    }
   ],
   "source": [
    "model = LinearRegression()\n",
    "model.fit(scaled_X_train, y_train)"
   ]
  },
  {
   "cell_type": "markdown",
   "id": "7de041d0",
   "metadata": {},
   "source": [
    "////////////////////////////////////////////////////////////////////"
   ]
  },
  {
   "cell_type": "code",
   "execution_count": 50,
   "id": "4e6443a2",
   "metadata": {},
   "outputs": [],
   "source": [
    "y_pred = model.predict(scaled_X_test)"
   ]
  },
  {
   "cell_type": "markdown",
   "id": "4129d017",
   "metadata": {},
   "source": [
    "////////////////////////////////////////////////////////////////////////"
   ]
  },
  {
   "cell_type": "code",
   "execution_count": 52,
   "id": "5e1fe3e2",
   "metadata": {},
   "outputs": [],
   "source": [
    "mse = mean_squared_error(y_test, y_pred)\n",
    "r2 = r2_score(y_test, y_pred)"
   ]
  },
  {
   "cell_type": "code",
   "execution_count": 53,
   "id": "f60b3234",
   "metadata": {},
   "outputs": [
    {
     "name": "stdout",
     "output_type": "stream",
     "text": [
      "Mean Squared Error (MSE): 2.611166207972966e+30\n",
      "R² Score: -3.6760208891127064e+20\n"
     ]
    }
   ],
   "source": [
    "print(\"Mean Squared Error (MSE):\", mse)\n",
    "print(\"R² Score:\", r2)"
   ]
  },
  {
   "cell_type": "markdown",
   "id": "3fb777b0",
   "metadata": {},
   "source": [
    "///////////////////////////////////////////////////////////"
   ]
  },
  {
   "cell_type": "code",
   "execution_count": 55,
   "id": "85aedf2c",
   "metadata": {},
   "outputs": [],
   "source": [
    "num_exemplos = 5\n",
    "exemplos = scaled_X_test[:num_exemplos]\n",
    "previsoes = model.predict(exemplos)"
   ]
  },
  {
   "cell_type": "code",
   "execution_count": 56,
   "id": "aec185ee",
   "metadata": {},
   "outputs": [
    {
     "name": "stdout",
     "output_type": "stream",
     "text": [
      "\n",
      "Exemplos de previsões:\n",
      "Exemplo 1: Previsão = 138701.72, Valor Real = 143000.00\n",
      "Exemplo 2: Previsão = 452777.38, Valor Real = 437154.00\n",
      "Exemplo 3: Previsão = 216414.69, Valor Real = 205950.00\n",
      "Exemplo 4: Previsão = 223765.40, Valor Real = 235000.00\n",
      "Exemplo 5: Previsão = 143316.93, Valor Real = 138000.00\n"
     ]
    }
   ],
   "source": [
    "print(\"\\nExemplos de previsões:\")\n",
    "for i, (prev, real) in enumerate(zip(previsoes, y_test.iloc[:num_exemplos])):\n",
    "    print(f\"Exemplo {i+1}: Previsão = {prev:.2f}, Valor Real = {real:.2f}\")"
   ]
  }
 ],
 "metadata": {
  "kernelspec": {
   "display_name": "Python 3 (ipykernel)",
   "language": "python",
   "name": "python3"
  },
  "language_info": {
   "codemirror_mode": {
    "name": "ipython",
    "version": 3
   },
   "file_extension": ".py",
   "mimetype": "text/x-python",
   "name": "python",
   "nbconvert_exporter": "python",
   "pygments_lexer": "ipython3",
   "version": "3.8.20"
  }
 },
 "nbformat": 4,
 "nbformat_minor": 5
}
